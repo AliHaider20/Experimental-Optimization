{
 "cells": [
  {
   "cell_type": "markdown",
   "id": "f4a0b3b2",
   "metadata": {},
   "source": [
    "# Week 2: A/B Testing I\n",
    "## AIM-5014-1A: Experimental Optimization\n",
    "### David Sweet // 20230608"
   ]
  },
  {
   "cell_type": "markdown",
   "id": "ed706d94",
   "metadata": {},
   "source": [
    "# Q1, 5 points\n",
    "\n",
    "You are a machine learning engineer for a video streaming service. You have engineered a new feature and added it to the input vector of your team's neural network. The out-of-sample prediction quality metrics for your new model (model B) are all superior to the current model (model A).\n",
    "\n",
    "a) A junior MLE says, \"Great! Let's swap your new model in for the current one.\" What do you reply?\n",
    "\n",
    "Your team's business metric (BM) is \\[time viewed\\] / stream. The current production system, which is based on model A, gets 7.3s $\\pm$ 1s of viewing time per stream. Your team's quarterly goal is to increase that by 2% -- but Rome wasn't built in a day. If your feature improved viewing time by only 1/3 of the goal, it would still be a win. After all, the whole team is working on other system improvements in an attempt to get all the way to the 2% goal.\n",
    "\n",
    "Your task is to design an A/B test to decide whether to accept your new model, model B, as a permanent change to the system.\n",
    "\n",
    "b) What is the minimum number of observations (individual measurements) that will you need? Show your work.\n"
   ]
  },
  {
   "cell_type": "markdown",
   "id": "01b00ce4",
   "metadata": {},
   "source": [
    "## Answer 1A\n",
    "\n",
    "It's good that you've got a better model. But, a better offline doesn't mean that it'll perform better in online (deployed) mode. It needs a further investigation to finalize it."
   ]
  },
  {
   "cell_type": "markdown",
   "id": "7430ae7d",
   "metadata": {},
   "source": [
    "## Answer 1b"
   ]
  },
  {
   "cell_type": "code",
   "execution_count": 180,
   "id": "988f1cbc",
   "metadata": {},
   "outputs": [
    {
     "name": "stdout",
     "output_type": "stream",
     "text": [
      "PS = 0.0487\n",
      "N = 5278\n"
     ]
    },
    {
     "data": {
      "text/plain": [
       "1.4142135623730951"
      ]
     },
     "execution_count": 180,
     "metadata": {},
     "output_type": "execute_result"
    }
   ],
   "source": [
    "import numpy as np \n",
    "import matplotlib.pyplot as plt\n",
    "from sklearn.preprocessing import LabelEncoder\n",
    "import seaborn as sns\n",
    "\n",
    "# Business metric of A\n",
    "bm_a = 7.3\n",
    "# Practical significance level\n",
    "ps = (1/3) * .02 * bm_a\n",
    "print (f\"PS = {ps:.4f}\")\n",
    "\n",
    "# Standard error of business metric of A\n",
    "se_a = 1.0\n",
    "\n",
    "# Estimated se of delta = y_b - y_a\n",
    "se_delta = np.sqrt(2 * se_a**2)\n",
    "\n",
    "# Minimum number of observations\n",
    "n = int( (2.5 * se_delta / ps)**2 + 0.5)\n",
    "print (f\"N = {n}\")\n",
    "se_delta"
   ]
  },
  {
   "cell_type": "markdown",
   "id": "23a885f4",
   "metadata": {},
   "source": [
    "# Answer 2\n",
    "\n",
    "The function below, `observe(version)`, produces a single observation of a version of the system, where `version = A` or `version = B`. It emulates a production system.\n",
    "\n",
    "Write a program (one or more functions or classes, as you see fit) to design, measure, and analyze an experiment (an A/B test). If you need to take observations before running the A/B test, take no more than 30 observations of version A and none of version B."
   ]
  },
  {
   "cell_type": "code",
   "execution_count": 89,
   "id": "05d0cef1",
   "metadata": {},
   "outputs": [],
   "source": [
    "import numpy as np\n",
    "_n_obs = 0\n",
    "def observe(version: str):\n",
    "    global _n_obs\n",
    "    offset = 0.5*(_n_obs % 2)\n",
    "    _n_obs += 1\n",
    "    if version == \"A\":\n",
    "        offset += 0.0\n",
    "    elif version == \"B\":\n",
    "        offset += 0.25\n",
    "    else:\n",
    "        assert False, f'version must be \"A\" or \"B\". Got {version}'\n",
    "    return offset + 2*np.random.normal()"
   ]
  },
  {
   "cell_type": "code",
   "execution_count": 90,
   "id": "d76c3a74",
   "metadata": {},
   "outputs": [
    {
     "name": "stdout",
     "output_type": "stream",
     "text": [
      "1.0906960199117444\n",
      "1.0846149621255177\n",
      "-1.3641751086986977\n",
      "1.5287350732081768\n",
      "-1.3112490088690032\n",
      "1.7337015266557827\n",
      "4.123217062679282\n",
      "-0.3991869802537361\n",
      "-2.58963253547996\n",
      "1.7640071556078418\n",
      "3.2179964158094427\n",
      "0.4112888286824208\n",
      "0.5535471660800155\n",
      "-2.175607982342768\n",
      "-0.2674861643999718\n",
      "1.1742020039125198\n",
      "0.6660251437939413\n",
      "-2.0219633585849017\n",
      "0.7482804067691564\n",
      "2.3309746963976465\n",
      "0.6171824745032557\n",
      "-3.27224530749258\n",
      "-1.1107297697370755\n",
      "-0.2760626896707381\n",
      "-2.870693701641998\n",
      "4.4088707138221634\n",
      "-0.3616111803328409\n",
      "-2.4626153994710673\n",
      "-0.16547832865777617\n",
      "2.0745777590036205\n"
     ]
    }
   ],
   "source": [
    "# Generating 30 observations of model A\n",
    "for i in range(30):\n",
    "    print(observe(\"A\"))"
   ]
  },
  {
   "cell_type": "code",
   "execution_count": 152,
   "id": "42063f53",
   "metadata": {},
   "outputs": [
    {
     "name": "stdout",
     "output_type": "stream",
     "text": [
      "Standard error of A: 0.3026356172785643\n",
      "Standard error of B: 0.3026356172785643\n",
      "Standard error delta: 0.427991394412499\n",
      "Standard error of A: 0.2648415049891305\n",
      "Standard error of B: 0.2648415049891305\n",
      "Standard error delta: 0.37454244823493005\n",
      "Standard error of A: 0.28910934899180313\n",
      "Standard error of B: 0.28910934899180313\n",
      "Standard error delta: 0.4088623623530643\n",
      "Standard error of A: 0.3169319497086038\n",
      "Standard error of B: 0.3169319497086038\n",
      "Standard error delta: 0.44820946162725517\n",
      "Standard error of A: 0.2573288836560747\n",
      "Standard error of B: 0.2573288836560747\n",
      "Standard error delta: 0.3639179972567491\n",
      "Standard error of A: 0.2750956133100272\n",
      "Standard error of B: 0.2750956133100272\n",
      "Standard error delta: 0.38904394729238495\n",
      "Standard error of A: 0.3097297380720346\n",
      "Standard error of B: 0.3097297380720346\n",
      "Standard error delta: 0.43802399625173766\n",
      "Standard error of A: 0.2555812314201023\n",
      "Standard error of B: 0.2555812314201023\n",
      "Standard error delta: 0.3614464437623253\n",
      "Standard error of A: 0.2538392546229255\n",
      "Standard error of B: 0.2538392546229255\n",
      "Standard error delta: 0.3589829165504186\n",
      "Standard error of A: 0.28673332683527664\n",
      "Standard error of B: 0.28673332683527664\n",
      "Standard error delta: 0.4055021595948055\n",
      "Standard error of A: 0.23468838119596092\n",
      "Standard error of B: 0.23468838119596092\n",
      "Standard error delta: 0.3318994916187148\n",
      "Standard error of A: 0.25783846728192666\n",
      "Standard error of B: 0.25783846728192666\n",
      "Standard error delta: 0.36463865733159223\n",
      "Standard error of A: 0.25710714725570594\n",
      "Standard error of B: 0.25710714725570594\n",
      "Standard error delta: 0.3636044146320758\n",
      "Standard error of A: 0.27428774186423266\n",
      "Standard error of B: 0.27428774186423266\n",
      "Standard error delta: 0.38790144453708836\n",
      "Standard error of A: 0.2643758375016279\n",
      "Standard error of B: 0.2643758375016279\n",
      "Standard error delta: 0.3738838949585477\n",
      "Standard error of A: 0.3064459435316814\n",
      "Standard error of B: 0.3064459435316814\n",
      "Standard error delta: 0.4333800094767235\n",
      "Standard error of A: 0.28641393786920366\n",
      "Standard error of B: 0.28641393786920366\n",
      "Standard error delta: 0.4050504753873128\n",
      "Standard error of A: 0.2820115210402662\n",
      "Standard error of B: 0.2820115210402662\n",
      "Standard error delta: 0.39882451780060996\n",
      "Standard error of A: 0.23325255805255932\n",
      "Standard error of B: 0.23325255805255932\n",
      "Standard error delta: 0.32986893105614706\n",
      "Standard error of A: 0.31433551517907327\n",
      "Standard error of B: 0.31433551517907327\n",
      "Standard error delta: 0.4445375487017793\n"
     ]
    },
    {
     "data": {
      "image/png": "[encoded data removed]",
      "text/plain": [
       "<Figure size 640x480 with 1 Axes>"
      ]
     },
     "metadata": {},
     "output_type": "display_data"
    }
   ],
   "source": [
    "def design(practical_significance_level):\n",
    "    # Estimate sigma_delta by pilot study\n",
    "    y_a = [] # Initializing A and B\n",
    "    y_b = []\n",
    "    for _ in range(100):\n",
    "        if np.random.uniform() < .5: # randomize with equal weight\n",
    "            y_a.append(observe(\"A\"))  # Appending single observation to A\n",
    "        else:\n",
    "            y_b.append(observe(\"B\")) # Appending single observation to B\n",
    "    se_a_est = np.std(y_a) / np.sqrt(len(y_a))\n",
    "    se_b_est = se_a_est  # reasonable approximation\n",
    "    se_delta_est = np.sqrt(se_a_est**2 + se_b_est**2)\n",
    "    print(\"Standard error of A:\", se_a_est)\n",
    "    print(\"Standard error of B:\", se_b_est)\n",
    "    print(\"Standard error delta:\", se_delta_est)\n",
    "    \n",
    "    num_observations = int(np.ceil( (2.5*se_delta_est / practical_significance_level)**2 ))\n",
    "    return num_observations\n",
    "\n",
    "n_obss = []\n",
    "prac_s = np.linspace(0, 1, 20)\n",
    "for i in prac_s:\n",
    "    n_obss.append(design(0.25))\n",
    "\n",
    "plt.scatter(prac_s,n_obss)\n",
    "plt.axvline(prac_s.mean(), color='red')\n",
    "plt.title(\"Practical significance VS Number of Observations\")\n",
    "plt.xlabel(\"Pratical significance\")\n",
    "plt.ylabel(\"Number of observations\");"
   ]
  },
  {
   "cell_type": "code",
   "execution_count": 153,
   "id": "445428d7",
   "metadata": {},
   "outputs": [
    {
     "name": "stdout",
     "output_type": "stream",
     "text": [
      "A: [0.03625529 1.10192758 1.94503732], B: [-0.01949183]\n"
     ]
    }
   ],
   "source": [
    "def measure(num_observations):\n",
    "    y_a = []\n",
    "    y_b = []   \n",
    "    \n",
    "    while (\n",
    "        len(y_a) < num_observations\n",
    "        and len(y_b) < num_observations\n",
    "    ):  # replicate\n",
    "        if np.random.uniform() < .5: # randomize\n",
    "            y_a.append(observe(\"A\"))\n",
    "        else:\n",
    "            y_b.append(observe(\"B\"))\n",
    "    return np.array(y_a), np.array(y_b)    \n",
    "\n",
    "y_a, y_b = measure(3) \n",
    "print(f\"A: {y_a}, B: {y_b}\")"
   ]
  },
  {
   "cell_type": "code",
   "execution_count": 157,
   "id": "fa5c4e32",
   "metadata": {},
   "outputs": [
    {
     "data": {
      "text/plain": [
       "(-2.3224208916445486, -1.047231887879235, 'Reject B')"
      ]
     },
     "execution_count": 157,
     "metadata": {},
     "output_type": "execute_result"
    }
   ],
   "source": [
    "def analyze(y_a, y_b, practical_significance_level):\n",
    "    delta_bar = y_b.mean() - y_a.mean()\n",
    "    se_a = y_a.std() / np.sqrt(len(y_a))\n",
    "    se_b = y_b.std() / np.sqrt(len(y_b))\n",
    "    se_delta_bar = np.sqrt(se_a**2 + se_b**2)\n",
    "    \n",
    "    t = delta_bar / se_delta_bar\n",
    "\n",
    "    # check practical significance and statistical significance\n",
    "    if delta_bar > practical_significance_level and t > 1.64:\n",
    "        return t, delta_bar, \"Accept B\"\n",
    "#         return f\"t = {t:.2f}, delta_bar = {delta_bar:.2f}: Accept B\"\n",
    "#     return f\"t = {t:.2f}, delta_bar = {delta_bar:.2f}: Reject B\"\n",
    "    return t, delta_bar, \"Reject B\"\n",
    "\n",
    "analyze(y_a, y_b, 0.015)"
   ]
  },
  {
   "cell_type": "code",
   "execution_count": 171,
   "id": "cf0c448c",
   "metadata": {},
   "outputs": [
    {
     "name": "stdout",
     "output_type": "stream",
     "text": [
      "Standard error of A: 0.2645084718478402\n",
      "Standard error of B: 0.2645084718478402\n",
      "Standard error delta: 0.37407146824979765\n",
      "num_observations = 1400\n",
      "T: 4.2644601937765625, delta B: 0.32886166822282403, Decision: Accept B\n"
     ]
    }
   ],
   "source": [
    "practical_significance_level = .025\n",
    "num_observations = design(practical_significance_level)\n",
    "print (f\"num_observations = {num_observations}\")\n",
    "t, delta_b, decision = analyze(*measure(num_observations), practical_significance_level)\n",
    "print(f\"T: {t}, delta B: {delta_b}, Decision: {decision}\")"
   ]
  },
  {
   "cell_type": "code",
   "execution_count": 176,
   "id": "f2a5eb6e",
   "metadata": {
    "scrolled": true
   },
   "outputs": [
    {
     "name": "stdout",
     "output_type": "stream",
     "text": [
      "Standard error of A: 0.2940018683599413\n",
      "Standard error of B: 0.2940018683599413\n",
      "Standard error delta: 0.41578142959765835\n",
      "Standard error of A: 0.2953235008288279\n",
      "Standard error of B: 0.2953235008288279\n",
      "Standard error delta: 0.4176505001596304\n",
      "Standard error of A: 0.2696726053171561\n",
      "Standard error of B: 0.2696726053171561\n",
      "Standard error delta: 0.38137465584000896\n",
      "Standard error of A: 0.2795004980625108\n",
      "Standard error of B: 0.2795004980625108\n",
      "Standard error delta: 0.3952733950500378\n",
      "Standard error of A: 0.24597621696334865\n",
      "Standard error of B: 0.24597621696334865\n",
      "Standard error delta: 0.3478629020507946\n",
      "Standard error of A: 0.28275420210549224\n",
      "Standard error of B: 0.28275420210549224\n",
      "Standard error delta: 0.3998748274355703\n",
      "Standard error of A: 0.27412251333483767\n",
      "Standard error of B: 0.27412251333483767\n",
      "Standard error delta: 0.38766777610992703\n",
      "Standard error of A: 0.299352646103712\n",
      "Standard error of B: 0.299352646103712\n",
      "Standard error delta: 0.42334857205214294\n",
      "Standard error of A: 0.21122155383214353\n",
      "Standard error of B: 0.21122155383214353\n",
      "Standard error delta: 0.29871238609493617\n",
      "Standard error of A: 0.30073391093414964\n",
      "Standard error of B: 0.30073391093414964\n",
      "Standard error delta: 0.42530197550857685\n",
      "Standard error of A: 0.2687313590724975\n",
      "Standard error of B: 0.2687313590724975\n",
      "Standard error delta: 0.38004353263528007\n",
      "Standard error of A: 0.23237676326351703\n",
      "Standard error of B: 0.23237676326351703\n",
      "Standard error delta: 0.3286303701876278\n",
      "Standard error of A: 0.22549769433493977\n",
      "Standard error of B: 0.22549769433493977\n",
      "Standard error delta: 0.31890189761233445\n",
      "Standard error of A: 0.28450254803331637\n",
      "Standard error of B: 0.28450254803331637\n",
      "Standard error delta: 0.4023473619584189\n",
      "Standard error of A: 0.2834247499937826\n",
      "Standard error of B: 0.2834247499937826\n",
      "Standard error delta: 0.40082312535341114\n",
      "Standard error of A: 0.2947532056719882\n",
      "Standard error of B: 0.2947532056719882\n",
      "Standard error delta: 0.416843981014272\n",
      "Standard error of A: 0.2505115295825154\n",
      "Standard error of B: 0.2505115295825154\n",
      "Standard error delta: 0.3542768026664221\n",
      "Standard error of A: 0.25426966319198757\n",
      "Standard error of B: 0.25426966319198757\n",
      "Standard error delta: 0.3595916061861478\n",
      "Standard error of A: 0.2397407507637718\n",
      "Standard error of B: 0.2397407507637718\n",
      "Standard error delta: 0.33904462118363404\n",
      "Standard error of A: 0.315892915180001\n",
      "Standard error of B: 0.315892915180001\n",
      "Standard error delta: 0.4467400449051312\n",
      "Standard error of A: 0.2721970779663999\n",
      "Standard error of B: 0.2721970779663999\n",
      "Standard error delta: 0.3849447992984095\n",
      "Standard error of A: 0.25185046694707686\n",
      "Standard error of B: 0.25185046694707686\n",
      "Standard error delta: 0.356170346046553\n",
      "Standard error of A: 0.2956724974641394\n",
      "Standard error of B: 0.2956724974641394\n",
      "Standard error delta: 0.41814405593451054\n",
      "Standard error of A: 0.26945118499546006\n",
      "Standard error of B: 0.26945118499546006\n",
      "Standard error delta: 0.38106152021808143\n",
      "Standard error of A: 0.2647297625472929\n",
      "Standard error of B: 0.2647297625472929\n",
      "Standard error delta: 0.37438442055819066\n",
      "Standard error of A: 0.3210134336589745\n",
      "Standard error of B: 0.3210134336589745\n",
      "Standard error delta: 0.45398155158447756\n",
      "Standard error of A: 0.2642457662337639\n",
      "Standard error of B: 0.2642457662337639\n",
      "Standard error delta: 0.37369994640745935\n",
      "Standard error of A: 0.2955374184336439\n",
      "Standard error of B: 0.2955374184336439\n",
      "Standard error delta: 0.41795302533759154\n",
      "Standard error of A: 0.3185999856458116\n",
      "Standard error of B: 0.3185999856458116\n",
      "Standard error delta: 0.45056842067218017\n",
      "Standard error of A: 0.2975178279491674\n",
      "Standard error of B: 0.2975178279491674\n",
      "Standard error delta: 0.42075374733349763\n"
     ]
    }
   ],
   "source": [
    "le = LabelEncoder()\n",
    "decisions = []\n",
    "ts = []\n",
    "delta_bs = []\n",
    "n_obss = [] \n",
    "for i in range(30):\n",
    "    num_observations = design(practical_significance_level)\n",
    "#     print (f\"num_observations = {num_observations}\")\n",
    "    t, deltab, decision = analyze(*measure(num_observations), practical_significance_level)\n",
    "    n_obss.append(num_observations)\n",
    "    delta_bs.append(delta_b)\n",
    "    decisions.append(decision)\n",
    "    \n",
    "decisions = le.fit_transform(decisions)"
   ]
  },
  {
   "cell_type": "code",
   "execution_count": 187,
   "id": "5c0dcdb0",
   "metadata": {},
   "outputs": [
    {
     "data": {
      "text/plain": [
       "<Axes: >"
      ]
     },
     "execution_count": 187,
     "metadata": {},
     "output_type": "execute_result"
    },
    {
     "data": {
      "image/png": "[encoded data removed]",
      "text/plain": [
       "<Figure size 640x480 with 1 Axes>"
      ]
     },
     "metadata": {},
     "output_type": "display_data"
    }
   ],
   "source": [
    "sns.scatterplot([t, delta_bs ])"
   ]
  }
 ],
 "metadata": {
  "kernelspec": {
   "display_name": "Python 3 (ipykernel)",
   "language": "python",
   "name": "python3"
  },
  "language_info": {
   "codemirror_mode": {
    "name": "ipython",
    "version": 3
   },
   "file_extension": ".py",
   "mimetype": "text/x-python",
   "name": "python",
   "nbconvert_exporter": "python",
   "pygments_lexer": "ipython3",
   "version": "3.9.10"
  }
 },
 "nbformat": 4,
 "nbformat_minor": 5
}
