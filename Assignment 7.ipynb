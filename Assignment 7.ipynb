{
 "cells": [
  {
   "cell_type": "markdown",
   "id": "d4028323",
   "metadata": {},
   "source": [
    "# Week 7: Response Surface Methodology\n",
    "## AIM-5014-1A: Experimental Optimization\n",
    "### David Sweet // 20230713"
   ]
  },
  {
   "cell_type": "markdown",
   "id": "2d3c33ef",
   "metadata": {},
   "source": [
    "In class we discussed the problem below. In this assignment, we will solve it.\n",
    "\n",
    "## Song recommender\n",
    "\n",
    "Your auto-play song recommender system determines which song to play next for a user. It works like this:\n",
    "\n",
    "- Generate a candidate list of songs from a database of songs\n",
    "- Remove recently-played songs\n",
    "- Score the songs using a classifier (an ML model that returns a probability)\n",
    "- Play the song with the highest score\n",
    "\n",
    "\n",
    "In production you are ranking songs by $p_{\\text{listen}}$ = P{user will listen until the end}\n",
    "\n",
    "Your team has developed an alternative scoring model, $p_{\\text{like}}$ = P{user will click song’s like button}\n",
    "\n",
    "Instead of A/B testing the two models to pick the better of the two, you will attempt to combine them into a single model that is (potentially) better than either model alone.\n",
    "\n",
    "To do this, you'll score songs with this function:\n",
    "$$score = \\alpha p_{\\text{listen}} + (1 - \\alpha) p_{\\text{like}}$$\n",
    "where $\\alpha \\in [0,1]$.\n",
    "\n",
    "Using a response surface method, you will determine the optimal value of the parameter $\\alpha$.\n"
   ]
  },
  {
   "cell_type": "code",
   "execution_count": 2,
   "id": "1a8e4ce5",
   "metadata": {},
   "outputs": [],
   "source": [
    "import numpy as np\n",
    "import matplotlib.pyplot as plt"
   ]
  },
  {
   "cell_type": "markdown",
   "id": "92950a11",
   "metadata": {},
   "source": [
    "The function `measure(alpha)` will emulate the entire measurement stage of your experiment. The function will collect randomized observations, aggregate them, average them, and then return the value of `y_bar`, the aggregate measurement.\n",
    "\n",
    "Note that the standard error of `y_bar` is at `se_y_bar`."
   ]
  },
  {
   "cell_type": "code",
   "execution_count": 3,
   "id": "86cfc5fe",
   "metadata": {},
   "outputs": [
    {
     "data": {
      "text/plain": [
       "(9.608223880645193, 5.022709305162876)"
      ]
     },
     "execution_count": 3,
     "metadata": {},
     "output_type": "execute_result"
    }
   ],
   "source": [
    "se_y_bar = 0.2\n",
    "def measure(alpha):   \n",
    "    return 10 - 10*(alpha - 0.3)**2 + se_y_bar*np.random.normal()\n",
    "\n",
    "measure(0.4), measure(1)"
   ]
  },
  {
   "cell_type": "markdown",
   "id": "0bfdd11e",
   "metadata": {},
   "source": [
    "# Q1\n",
    "\n",
    "First, you need to take a few aggregate measurements. How many? Why that many? Which values of $\\alpha$ should you measure?\n",
    "\n",
    "a) The code in the cell below creates lists to hold your measurements, `alphas` and `y_bars`. It also demonstrates how to record your first measurement. Modify the cell to record the rest of your measurements.\n",
    "\n",
    "b) Plot your measurements."
   ]
  },
  {
   "cell_type": "code",
   "execution_count": 4,
   "id": "1ea43ae5",
   "metadata": {},
   "outputs": [
    {
     "data": {
      "image/png": "[encoded data removed]",
      "text/plain": [
       "<Figure size 640x480 with 1 Axes>"
      ]
     },
     "metadata": {},
     "output_type": "display_data"
    }
   ],
   "source": [
    "np.random.seed(17)  # for reproducibility\n",
    "\n",
    "alphas = []\n",
    "y_bars = []\n",
    "\n",
    "alphas = np.linspace(0, 1, 10)\n",
    "y_bars = [measure(alpha) for alpha in alphas]\n",
    "\n",
    "plt.plot(alphas, y_bars, 'o-');"
   ]
  },
  {
   "cell_type": "markdown",
   "id": "d7f9f928",
   "metadata": {},
   "source": [
    "## Q2\n",
    "\n",
    "Next you need to create a surrogate model of the response function.\n",
    "\n",
    "To get you started, I've laid out some boilerplate NumPy in the next cell.\n",
    "\n",
    "a) Write out the linear surrogate model that needs to be fit (in LaTex or include an image of your handwritten work).\n",
    "\n",
    "b) Fill in the missing term (the `TODO`)."
   ]
  },
  {
   "cell_type": "code",
   "execution_count": 5,
   "id": "05cdb8c3",
   "metadata": {},
   "outputs": [
    {
     "data": {
      "text/plain": [
       "array([[1.        , 0.        , 0.        ],\n",
       "       [1.        , 0.11111111, 0.01234568],\n",
       "       [1.        , 0.22222222, 0.04938272],\n",
       "       [1.        , 0.33333333, 0.11111111],\n",
       "       [1.        , 0.44444444, 0.19753086],\n",
       "       [1.        , 0.55555556, 0.30864198],\n",
       "       [1.        , 0.66666667, 0.44444444],\n",
       "       [1.        , 0.77777778, 0.60493827],\n",
       "       [1.        , 0.88888889, 0.79012346],\n",
       "       [1.        , 1.        , 1.        ]])"
      ]
     },
     "execution_count": 5,
     "metadata": {},
     "output_type": "execute_result"
    }
   ],
   "source": [
    "X = np.vstack( (\n",
    "    np.ones(shape=(len(y_bars,))),\n",
    "    alphas,\n",
    "    alphas**2,\n",
    ") ).T\n",
    "X              "
   ]
  },
  {
   "cell_type": "markdown",
   "id": "6a949b25",
   "metadata": {},
   "source": [
    "c) Fit the model using the normal equations. Fill in the `TODO`. What do the beta values represent?"
   ]
  },
  {
   "cell_type": "code",
   "execution_count": 6,
   "id": "ac04d233",
   "metadata": {},
   "outputs": [
    {
     "data": {
      "text/plain": [
       "array([  8.97170799,   7.19006478, -11.19284564])"
      ]
     },
     "execution_count": 6,
     "metadata": {},
     "output_type": "execute_result"
    }
   ],
   "source": [
    "beta = np.linalg.inv(X.T@X)@(X.T@y_bars)\n",
    "beta"
   ]
  },
  {
   "cell_type": "markdown",
   "id": "5ecc75b9",
   "metadata": {},
   "source": [
    "d) Finally, for 100 values of $\\alpha$ -- `alphas_what_if` -- generate the values of `y_bar` predicted by your linear surrogate model. Then plot them. We're calling them \"what if\" values to emphasize the fact that they are estimated by your surrogate and not measured. They say, \"If I were to measure `alpha = ...`, I estimate that I would find `y_bar = ...`. Fill in the `TODO`."
   ]
  },
  {
   "cell_type": "code",
   "execution_count": 7,
   "id": "bd6c7c42",
   "metadata": {},
   "outputs": [
    {
     "data": {
      "image/png": "[encoded data removed]",
      "text/plain": [
       "<Figure size 640x480 with 1 Axes>"
      ]
     },
     "metadata": {},
     "output_type": "display_data"
    }
   ],
   "source": [
    "alphas_what_if = np.linspace(0, 1, 100)\n",
    "y_what_if = beta[0] + beta[1] * alphas_what_if + beta[2] * alphas_what_if**2\n",
    "plt.plot(alphas, y_bars, 'ok');\n",
    "plt.plot(alphas_what_if, y_what_if, '--k');"
   ]
  },
  {
   "cell_type": "markdown",
   "id": "3fc16dfb",
   "metadata": {},
   "source": [
    "## Q3\n",
    "\n",
    "a) From your what-if values, estimate the optimal value of $\\alpha$. Call it `alpha_opt`."
   ]
  },
  {
   "cell_type": "code",
   "execution_count": 8,
   "id": "089c68ff",
   "metadata": {},
   "outputs": [
    {
     "name": "stdout",
     "output_type": "stream",
     "text": [
      "Y maximum: 10.126350509551587\n",
      "Alpha with Y maximum value: 0.32323232323232326\n"
     ]
    }
   ],
   "source": [
    "print(\"Y maximum:\", max(y_what_if))\n",
    "print(\"Alpha with Y maximum value:\", alphas_what_if[np.argmax(y_what_if)])"
   ]
  },
  {
   "cell_type": "code",
   "execution_count": 9,
   "id": "ac6f9a63",
   "metadata": {},
   "outputs": [
    {
     "data": {
      "image/png": "[encoded data removed]",
      "text/plain": [
       "<Figure size 640x480 with 1 Axes>"
      ]
     },
     "metadata": {},
     "output_type": "display_data"
    }
   ],
   "source": [
    "alpha_opt = alphas_what_if[np.argmax(y_what_if)]\n",
    "plt.axvline(alpha_opt)\n",
    "plt.title(f\"Alpha Optimal = {round(alpha_opt, 4)}\")\n",
    "plt.plot(alphas, y_bars, 'ok');\n",
    "plt.plot(alphas_what_if, y_what_if, '--k');"
   ]
  },
  {
   "cell_type": "markdown",
   "id": "40ee9722",
   "metadata": {},
   "source": [
    "Finally, run an A/B test to validate your result.\n",
    "\n",
    "b) Measure the original production model (which value of $\\alpha$ corresponds to the original production model?).\n",
    "\n",
    "c) Measure the optimal model.\n",
    "\n",
    "d) Analyze your results. Assume PS = 1.\n",
    " \n",
    "N.B. There is no need to calculate N (the A/B test design) in this exercise. Assume `measure()` is taking care of it."
   ]
  },
  {
   "cell_type": "markdown",
   "id": "46d9de48",
   "metadata": {},
   "source": [
    "# A/B test \n",
    "\n",
    "### Model A: Score: P(listen)\n",
    "### Model B: Score: 0.3232xP(listen) + 0.676xP(Like)"
   ]
  },
  {
   "cell_type": "markdown",
   "id": "0d362365",
   "metadata": {},
   "source": [
    "b) Measure the original production model (which value of  𝛼  corresponds to the original production model?).\n",
    "\n",
    "The 𝛼 will be 1 here as the original model contains only probability of listen."
   ]
  },
  {
   "cell_type": "code",
   "execution_count": 10,
   "id": "16690b6b",
   "metadata": {},
   "outputs": [
    {
     "name": "stdout",
     "output_type": "stream",
     "text": [
      "Value: 5.534251399501329\n"
     ]
    }
   ],
   "source": [
    "initial_alpha = 1\n",
    "original_production_model = measure(initial_alpha)\n",
    "print(\"Value:\", original_production_model)"
   ]
  },
  {
   "cell_type": "code",
   "execution_count": 11,
   "id": "7a3b7c30",
   "metadata": {},
   "outputs": [
    {
     "name": "stdout",
     "output_type": "stream",
     "text": [
      "Optimal Model: 10.225064641697019\n"
     ]
    }
   ],
   "source": [
    "# C: Measure the optimal model\n",
    "optimal_model = measure(alpha_opt)\n",
    "print(\"Optimal Model:\", optimal_model)"
   ]
  },
  {
   "cell_type": "code",
   "execution_count": 12,
   "id": "d521e566",
   "metadata": {},
   "outputs": [
    {
     "name": "stdout",
     "output_type": "stream",
     "text": [
      "t = 16.585, delta_bar = 4.691: Accept B\n"
     ]
    }
   ],
   "source": [
    "# Analyze the results using statistical test\n",
    "PS = 1\n",
    "\n",
    "delta_bar = optimal_model - original_production_model\n",
    "\n",
    "\n",
    "se_delta_bar = np.sqrt(2*se_y_bar**2)\n",
    "\n",
    "t = delta_bar / se_delta_bar\n",
    "\n",
    "# check practical significance and statistical significance\n",
    "if delta_bar > PS and t > 1.64:\n",
    "    print(f\"t = {t:.3f}, delta_bar = {delta_bar:.3f}: Accept B\")\n",
    "else:\n",
    "    print(f\"t = {t:.3f}, delta_bar = {delta_bar:.3f}: Reject B\")"
   ]
  },
  {
   "cell_type": "code",
   "execution_count": null,
   "id": "76b3cd0f",
   "metadata": {},
   "outputs": [],
   "source": []
  }
 ],
 "metadata": {
  "kernelspec": {
   "display_name": "Python 3",
   "language": "python",
   "name": "python3"
  },
  "language_info": {
   "codemirror_mode": {
    "name": "ipython",
    "version": 3
   },
   "file_extension": ".py",
   "mimetype": "text/x-python",
   "name": "python",
   "nbconvert_exporter": "python",
   "pygments_lexer": "ipython3",
   "version": "3.9.0"
  }
 },
 "nbformat": 4,
 "nbformat_minor": 5
}
