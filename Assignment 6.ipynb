{
 "cells": [
  {
   "attachments": {},
   "cell_type": "markdown",
   "id": "a9bf2443",
   "metadata": {},
   "source": [
    "# Week 6: A/B Testing I|\n",
    "## AIM-5014-1A: Experimental Optimization\n",
    "### David Sweet // 20230706"
   ]
  },
  {
   "attachments": {},
   "cell_type": "markdown",
   "id": "03ae44a3",
   "metadata": {},
   "source": [
    "You are an ML engineer working on an ad-serving system. Users of your app are occasionally shown an ad. If the user clicks on the ad, they are given the option to make a purchase. If they do, you receive a payout from the selling. Your business metric is revenue/click, RPC.\n",
    "\n",
    "Increasing RPC by at least \\$0.02 would be valuable.\n",
    "\n",
    "A colleague has prepared a new ad-ranker and would like to measure its impact on RPC via an A/B test. Let's call her new ad-ranker version B -- or *arm* B -- and the current, production ad-ranker version A -- or *arm* A. You'll be conducting the A/B test.\n",
    "\n",
    "You've just learned about multi-armed bandits and Thompson Sampling and think it might improve the quality of your experiment. You'd like to give it a try. Since you've run many A/B tests, you already have working A/B testing code.  You would like to modify that code to take a measurement using Thompson Sampling for randomization instead of using simple A/B test-style (50/50) randomization.\n",
    "\n",
    "The function `observe()`, below, emulates an observation, i.e. a single event where a user is shown an ad. `observe()` returns the revenue earned from showing the ad."
   ]
  },
  {
   "cell_type": "code",
   "execution_count": 288,
   "id": "e272d127",
   "metadata": {},
   "outputs": [
    {
     "data": {
      "text/plain": [
       "0"
      ]
     },
     "execution_count": 288,
     "metadata": {},
     "output_type": "execute_result"
    }
   ],
   "source": [
    "import numpy as np\n",
    "\n",
    "def observe(arm):\n",
    "    # User is shown an ad.\n",
    "    if np.random.uniform() < .90:\n",
    "        # If they don't click, then revenue is $0\n",
    "        return 0\n",
    "    \n",
    "    # If they do click:\n",
    "    if arm == \"A\":\n",
    "        rpc = 1.00\n",
    "    elif arm == \"B\":\n",
    "        rpc = 1.75\n",
    "    else:\n",
    "        assert False, \"arm should be A or B\"\n",
    "        \n",
    "    # Return revenue for a single click, which is\n",
    "    #  noisy, but equal to rpc in expectation.\n",
    "    return rpc + .75*np.random.normal()\n",
    "\n",
    "observe(\"A\")"
   ]
  },
  {
   "attachments": {},
   "cell_type": "markdown",
   "id": "c1b87cdb",
   "metadata": {},
   "source": [
    "# Q1, 1 pt\n",
    "\n",
    "The function `calculate_mean_and_se(y_arm)` takes a list, `y_arm`, of observations -- each item in the list being an output value of `observe()` -- and computes the mean and standard error.\n",
    "\n",
    "Replace the word `TODO` with the code to calculate se."
   ]
  },
  {
   "cell_type": "code",
   "execution_count": 289,
   "id": "010fbeab",
   "metadata": {},
   "outputs": [],
   "source": [
    "def calculate_mean_and_se(y_arm):\n",
    "    m = np.mean(y_arm)\n",
    "    se = np.std(y_arm)/np.sqrt(len(y_arm))\n",
    "    return m, se"
   ]
  },
  {
   "attachments": {},
   "cell_type": "markdown",
   "id": "74d71ad4",
   "metadata": {},
   "source": [
    "# Q2, 1 pt\n",
    "Recall that the average of $N$ iid draws from a random variable approximates a Gaussian distribution for large enough $N$. What statistics rule/law/theorem/concept tells us that this is the case?\n",
    "\n",
    "**Answer:** Central Limit Theorem"
   ]
  },
  {
   "cell_type": "code",
   "execution_count": 290,
   "id": "6672f405",
   "metadata": {},
   "outputs": [],
   "source": [
    "def draw_from_gaussian_reward_model(y_arm):\n",
    "    m, se = calculate_mean_and_se(y_arm)\n",
    "    return m + se*np.random.normal()\n",
    "# draw_from_gaussian_reward_model(\"A\")"
   ]
  },
  {
   "attachments": {},
   "cell_type": "markdown",
   "id": "d2eb945c",
   "metadata": {},
   "source": [
    "# Q3, 5 pts\n",
    "The function `draw_from_gaussian_reward_model()` takes a draw from the Gaussian distribution that models the mean of `y_arm` (== the average RPC).\n",
    "\n",
    "Write a function `thompson_sampling_randomizer(y_a, y_b)` that takes two lists of observations -- one for arm A and one for arm B -- then decides whether to show the user ad-ranker A or ad-ranker B for the next observation. Return your function's decision as the string \"A\" or the string \"B\". A function `ab_test_randomizer()` is provided for comparison."
   ]
  },
  {
   "cell_type": "code",
   "execution_count": 291,
   "id": "ccfd8be7",
   "metadata": {},
   "outputs": [],
   "source": [
    "def ab_test_randomizer(y_a, y_b):\n",
    "    # This function ignores the arguments y_a and y_b\n",
    "    #  and just chooses randomly, as is appropriate\n",
    "    #  for normal A/B testing.\n",
    "    if np.random.uniform() < 0.5:\n",
    "        return \"A\"\n",
    "    return \"B\""
   ]
  },
  {
   "cell_type": "code",
   "execution_count": 313,
   "id": "c652b35b",
   "metadata": {},
   "outputs": [],
   "source": [
    "def thompson_sampling_randomizer(y_a, y_b):\n",
    "    # y_a, y_b are lists of observations, one for arm A and one for arm B\n",
    "    # Choose an arm to use for the next observation via Thompson Sampling\n",
    "    # Return the name of the chosen arm, either \"A\" or \"B\"\n",
    "    # Hint: Make use of draw_from_gaussian_reward_model()\n",
    "    tsa = draw_from_gaussian_reward_model(y_a)\n",
    "    tsb = draw_from_gaussian_reward_model(y_b)\n",
    "\n",
    "    if len(y_a)<10 or len(y_b)<10:\n",
    "        return np.random.choice([\"A\", \"B\"])\n",
    "    elif tsa > tsb:\n",
    "        return \"A\"\n",
    "    elif tsa == tsb:\n",
    "        return np.random.choice([\"A\", \"B\"])\n",
    "    return \"B\"\n",
    "    "
   ]
  },
  {
   "attachments": {},
   "cell_type": "markdown",
   "id": "b9aaaf4e",
   "metadata": {},
   "source": [
    "# Q4, 1 pt\n",
    "\n",
    "Replace the word `TODO` (two places) in the function `design()` with the correct code."
   ]
  },
  {
   "cell_type": "code",
   "execution_count": 314,
   "id": "9a549232",
   "metadata": {},
   "outputs": [],
   "source": [
    "def design():\n",
    "    practical_significance = 0.02\n",
    "    # pilot study\n",
    "    sd_a = np.std([observe(\"A\") for _ in range(100)])\n",
    "    sd_delta = np.sqrt(2*sd_a**2)\n",
    "    \n",
    "    num_observations = int((2.5 * sd_delta / practical_significance) ** 2)\n",
    "    \n",
    "    return num_observations"
   ]
  },
  {
   "attachments": {},
   "cell_type": "markdown",
   "id": "ad4042d2",
   "metadata": {},
   "source": [
    "# Q5, 2 pts\n",
    "\n",
    "The function `measure()` emulates the process of taking a measurement. Note that the second argument, `randomizer_function`, is a Python function. It could be `ab_test_randomizer` or `thompson_sampling_randomizer`."
   ]
  },
  {
   "cell_type": "code",
   "execution_count": 317,
   "id": "f8d27e2b",
   "metadata": {},
   "outputs": [],
   "source": [
    "def measure(num_observations, randomizer_function):\n",
    "    business_metric = []\n",
    "    y_a = []\n",
    "    y_b = []\n",
    "    for _ in range(num_observations):             \n",
    "        arm = randomizer_function(y_a, y_b)\n",
    "        bm = observe(arm)\n",
    "        if arm == \"A\":\n",
    "            y_a.append(bm)\n",
    "        else: # B\n",
    "            y_b.append(bm)\n",
    "        business_metric.append(bm)\n",
    "        # if randomizer_function.__name__ == \"thompson_sampling_randomizer\":\n",
    "        #     if len(y_b) >= 10 and len(y_a) >= 10:\n",
    "                    \n",
    "        #         if len(y_b) / len(y_a) >= 0.98 or len(y_a) / len(y_b) >= 0.98:\n",
    "        #             break\n",
    "        \n",
    "    bm = np.mean(business_metric)\n",
    "    print (f\"num = {len(business_metric)} num_A = {len(y_a)} num_B = {len(y_b)}\")\n",
    "    print (f\"bm = {bm:.4f} bm_A = {np.mean(y_a):.4f} bm_B = {np.mean(y_b):.4f}\")"
   ]
  },
  {
   "attachments": {},
   "cell_type": "markdown",
   "id": "050f2556",
   "metadata": {},
   "source": [
    "The code in the cell below will run `measure()` once with `ab_test_randomizer` and once with `thompson_sampling_randomizer`.\n",
    "\n",
    "Run the cell a few times.  What is your interpretation of its output? Comment on each printed quantity."
   ]
  },
  {
   "cell_type": "code",
   "execution_count": 318,
   "id": "1b0c8519",
   "metadata": {},
   "outputs": [
    {
     "name": "stdout",
     "output_type": "stream",
     "text": [
      "AB_test_randomizer\n",
      "num = 3359 num_A = 1676 num_B = 1683\n",
      "bm = 0.1399 bm_A = 0.1166 bm_B = 0.1632\n",
      "Time for A/B test: 0.03477644920349121\n",
      "\n",
      "Thompson_sampling_randomizer\n",
      "num = 3359 num_A = 159 num_B = 3200\n",
      "bm = 0.1501 bm_A = 0.0766 bm_B = 0.1537\n",
      "Time for MAB using Thompson sampling: 4.044288635253906\n",
      "\n",
      "A/B test is 116 times faster than Thompson sampling\n"
     ]
    }
   ],
   "source": [
    "import matplotlib.pyplot as plt\n",
    "from time import time\n",
    "\n",
    "np.random.seed(17)\n",
    "num_observations = design()\n",
    "\n",
    "start = time()\n",
    "print (\"AB_test_randomizer\")\n",
    "measure(num_observations, ab_test_randomizer)\n",
    "ab_time = time() - start\n",
    "print(\"Time for A/B test:\", ab_time )\n",
    "\n",
    "start = time()\n",
    "print (\"\\nThompson_sampling_randomizer\")\n",
    "measure(num_observations, thompson_sampling_randomizer)\n",
    "ts_time = time() - start\n",
    "print(\"Time for MAB using Thompson sampling:\", ts_time)\n",
    "\n",
    "print(f\"\\nA/B test is {int(ts_time/ab_time) } times faster than Thompson sampling\")"
   ]
  },
  {
   "cell_type": "code",
   "execution_count": null,
   "id": "6ec48fee",
   "metadata": {},
   "outputs": [],
   "source": []
  },
  {
   "cell_type": "code",
   "execution_count": null,
   "id": "be908bb4",
   "metadata": {},
   "outputs": [],
   "source": []
  }
 ],
 "metadata": {
  "kernelspec": {
   "display_name": "Python 3 (ipykernel)",
   "language": "python",
   "name": "python3"
  },
  "language_info": {
   "codemirror_mode": {
    "name": "ipython",
    "version": 3
   },
   "file_extension": ".py",
   "mimetype": "text/x-python",
   "name": "python",
   "nbconvert_exporter": "python",
   "pygments_lexer": "ipython3",
   "version": "3.9.0"
  }
 },
 "nbformat": 4,
 "nbformat_minor": 5
}
