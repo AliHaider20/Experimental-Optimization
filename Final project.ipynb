{
  "cells": [
    {
      "cell_type": "markdown",
      "id": "9bb0bd4b",
      "metadata": {
        "id": "9bb0bd4b"
      },
      "source": [
        "# Final Project\n",
        "## AIM-5014-1A: Experimental Optimization\n",
        "## David Sweet\n"
      ]
    },
    {
      "cell_type": "markdown",
      "id": "daa73f16",
      "metadata": {
        "id": "daa73f16"
      },
      "source": [
        "This is a group project.\n",
        "\n",
        "You are a team of AI engineers responsible for the well-being of a chatbot. Each day you receive a measurement of user satisfaction. It is a noisy number between 0 and 100, and it is your business metric.\n",
        "\n",
        "After viewing the business metric, you may adjust three configuration parameters that affect the way the system operates and, in turn, the level of user satisfaction.\n",
        "\n",
        "For this project, you will experimentally optimize the chatbot. You will adjust the configuration parameters to maximize user satisfaction."
      ]
    },
    {
      "cell_type": "markdown",
      "id": "d0e4a821",
      "metadata": {
        "id": "d0e4a821"
      },
      "source": [
        "## Measurements\n",
        "\n",
        "The measurements are provided by a server running at [http://44.202.108.53:8080](http://44.202.108.53:8080).  \n",
        "\n",
        "The parameters are represented by a vector, $x$, which has three components. Each component must lie in $[0,1]$, i.e., $x_i \\in [0,1]$.\n",
        "\n",
        "To take a measurement, you need to know your group id (called `sid`) and the parameters you want to measure (called `x`). For example, say your group id is 123 and want to measure $x = [0.1, 0.2, 0.3]$. You would visit the url\n",
        "\n",
        "http://44.202.108.53:8080/?sid=123&x=0.1,0.2,0.3\n",
        "\n",
        "Note that the x values are separated by commas.\n",
        "\n",
        "You only get to take one measurement/day."
      ]
    },
    {
      "cell_type": "markdown",
      "id": "e994e882",
      "metadata": {
        "id": "e994e882"
      },
      "source": [
        "## Group ID: 31415\n",
        "## Group Members:\n",
        "\n",
        "- Marwan Kanaan\n",
        "- Haris Sumra\n",
        "- Haider Ali\n",
        "- Sai Lalitesh"
      ]
    },
    {
      "cell_type": "markdown",
      "id": "08d4aa16",
      "metadata": {
        "id": "08d4aa16"
      },
      "source": [
        "## Notes\n",
        "\n",
        "You will learn useful techniques for solving this problem in the coming weeks, but since you only get one measurement/day, time is of the essence.\n",
        "\n",
        "If you'd like to get a headstart, take a look at these Bayesian optimization tools:\n",
        "\n",
        "- http://cogneato.xyz\n",
        "- https://ax.dev\n",
        "- https://scikit-optimize.github.io/stable/\n"
      ]
    },
    {
      "cell_type": "markdown",
      "id": "00fed45a",
      "metadata": {},
      "source": [
        "### **Objective**: Improving customer satisfaction (Y) by accurately setting parameters X1, X2, and X3 of the Chatbot model.\n",
        "\n",
        "The effectiveness of a chatbot is intricately linked to the satisfaction and overall experience of its users. Therefore, measuring user satisfaction stands as a fundamental business metric for evaluating the chatbot's performance. User satisfaction serves as a direct reflection of how effectively the chatbot meets users' needs and expectations. Notably, achieving a high level of user satisfaction fosters greater customer loyalty, ultimately bolstering the chatbot's success in delivering valuable interactions and building lasting relationships with users."
      ]
    },
    {
      "cell_type": "code",
      "execution_count": 1,
      "id": "7a07b582",
      "metadata": {},
      "outputs": [
        {
          "data": {
            "text/html": [
              "<div>\n",
              "<style scoped>\n",
              "    .dataframe tbody tr th:only-of-type {\n",
              "        vertical-align: middle;\n",
              "    }\n",
              "\n",
              "    .dataframe tbody tr th {\n",
              "        vertical-align: top;\n",
              "    }\n",
              "\n",
              "    .dataframe thead th {\n",
              "        text-align: right;\n",
              "    }\n",
              "</style>\n",
              "<table border=\"1\" class=\"dataframe\">\n",
              "  <thead>\n",
              "    <tr style=\"text-align: right;\">\n",
              "      <th></th>\n",
              "      <th>x1</th>\n",
              "      <th>x2</th>\n",
              "      <th>x3</th>\n",
              "      <th>y</th>\n",
              "    </tr>\n",
              "  </thead>\n",
              "  <tbody>\n",
              "    <tr>\n",
              "      <th>0</th>\n",
              "      <td>0.990000</td>\n",
              "      <td>0.990000</td>\n",
              "      <td>0.990000</td>\n",
              "      <td>91.444134</td>\n",
              "    </tr>\n",
              "    <tr>\n",
              "      <th>1</th>\n",
              "      <td>0.500000</td>\n",
              "      <td>0.500000</td>\n",
              "      <td>0.500000</td>\n",
              "      <td>101.751165</td>\n",
              "    </tr>\n",
              "    <tr>\n",
              "      <th>2</th>\n",
              "      <td>0.100000</td>\n",
              "      <td>0.100000</td>\n",
              "      <td>0.100000</td>\n",
              "      <td>93.725157</td>\n",
              "    </tr>\n",
              "    <tr>\n",
              "      <th>3</th>\n",
              "      <td>0.292148</td>\n",
              "      <td>0.916340</td>\n",
              "      <td>0.366324</td>\n",
              "      <td>90.345593</td>\n",
              "    </tr>\n",
              "    <tr>\n",
              "      <th>4</th>\n",
              "      <td>0.470537</td>\n",
              "      <td>0.100000</td>\n",
              "      <td>0.489081</td>\n",
              "      <td>90.689267</td>\n",
              "    </tr>\n",
              "    <tr>\n",
              "      <th>5</th>\n",
              "      <td>0.500000</td>\n",
              "      <td>0.500000</td>\n",
              "      <td>0.100000</td>\n",
              "      <td>97.007826</td>\n",
              "    </tr>\n",
              "    <tr>\n",
              "      <th>6</th>\n",
              "      <td>0.772000</td>\n",
              "      <td>0.285000</td>\n",
              "      <td>0.824000</td>\n",
              "      <td>101.828666</td>\n",
              "    </tr>\n",
              "    <tr>\n",
              "      <th>7</th>\n",
              "      <td>0.650000</td>\n",
              "      <td>0.421000</td>\n",
              "      <td>0.682000</td>\n",
              "      <td>103.547217</td>\n",
              "    </tr>\n",
              "    <tr>\n",
              "      <th>8</th>\n",
              "      <td>0.561000</td>\n",
              "      <td>0.395000</td>\n",
              "      <td>0.767000</td>\n",
              "      <td>102.635066</td>\n",
              "    </tr>\n",
              "    <tr>\n",
              "      <th>9</th>\n",
              "      <td>0.603000</td>\n",
              "      <td>0.392000</td>\n",
              "      <td>0.561000</td>\n",
              "      <td>99.678893</td>\n",
              "    </tr>\n",
              "    <tr>\n",
              "      <th>10</th>\n",
              "      <td>0.581000</td>\n",
              "      <td>0.509000</td>\n",
              "      <td>0.740000</td>\n",
              "      <td>100.014611</td>\n",
              "    </tr>\n",
              "    <tr>\n",
              "      <th>11</th>\n",
              "      <td>0.631000</td>\n",
              "      <td>0.316000</td>\n",
              "      <td>0.825000</td>\n",
              "      <td>98.717224</td>\n",
              "    </tr>\n",
              "    <tr>\n",
              "      <th>12</th>\n",
              "      <td>0.555000</td>\n",
              "      <td>0.441000</td>\n",
              "      <td>0.702000</td>\n",
              "      <td>94.780945</td>\n",
              "    </tr>\n",
              "    <tr>\n",
              "      <th>13</th>\n",
              "      <td>0.564000</td>\n",
              "      <td>0.410000</td>\n",
              "      <td>0.759000</td>\n",
              "      <td>103.530294</td>\n",
              "    </tr>\n",
              "    <tr>\n",
              "      <th>14</th>\n",
              "      <td>0.614000</td>\n",
              "      <td>0.413000</td>\n",
              "      <td>0.587000</td>\n",
              "      <td>101.508160</td>\n",
              "    </tr>\n",
              "    <tr>\n",
              "      <th>15</th>\n",
              "      <td>0.635000</td>\n",
              "      <td>0.412000</td>\n",
              "      <td>0.879000</td>\n",
              "      <td>99.662326</td>\n",
              "    </tr>\n",
              "    <tr>\n",
              "      <th>16</th>\n",
              "      <td>0.409000</td>\n",
              "      <td>0.400000</td>\n",
              "      <td>0.731000</td>\n",
              "      <td>99.669282</td>\n",
              "    </tr>\n",
              "    <tr>\n",
              "      <th>17</th>\n",
              "      <td>0.623000</td>\n",
              "      <td>0.409000</td>\n",
              "      <td>0.705000</td>\n",
              "      <td>96.943117</td>\n",
              "    </tr>\n",
              "    <tr>\n",
              "      <th>18</th>\n",
              "      <td>0.442000</td>\n",
              "      <td>0.485000</td>\n",
              "      <td>0.766000</td>\n",
              "      <td>102.010364</td>\n",
              "    </tr>\n",
              "    <tr>\n",
              "      <th>19</th>\n",
              "      <td>0.446000</td>\n",
              "      <td>0.286000</td>\n",
              "      <td>0.760000</td>\n",
              "      <td>98.329630</td>\n",
              "    </tr>\n",
              "    <tr>\n",
              "      <th>20</th>\n",
              "      <td>0.505308</td>\n",
              "      <td>0.437406</td>\n",
              "      <td>0.810431</td>\n",
              "      <td>102.149349</td>\n",
              "    </tr>\n",
              "  </tbody>\n",
              "</table>\n",
              "</div>"
            ],
            "text/plain": [
              "          x1        x2        x3           y\n",
              "0   0.990000  0.990000  0.990000   91.444134\n",
              "1   0.500000  0.500000  0.500000  101.751165\n",
              "2   0.100000  0.100000  0.100000   93.725157\n",
              "3   0.292148  0.916340  0.366324   90.345593\n",
              "4   0.470537  0.100000  0.489081   90.689267\n",
              "5   0.500000  0.500000  0.100000   97.007826\n",
              "6   0.772000  0.285000  0.824000  101.828666\n",
              "7   0.650000  0.421000  0.682000  103.547217\n",
              "8   0.561000  0.395000  0.767000  102.635066\n",
              "9   0.603000  0.392000  0.561000   99.678893\n",
              "10  0.581000  0.509000  0.740000  100.014611\n",
              "11  0.631000  0.316000  0.825000   98.717224\n",
              "12  0.555000  0.441000  0.702000   94.780945\n",
              "13  0.564000  0.410000  0.759000  103.530294\n",
              "14  0.614000  0.413000  0.587000  101.508160\n",
              "15  0.635000  0.412000  0.879000   99.662326\n",
              "16  0.409000  0.400000  0.731000   99.669282\n",
              "17  0.623000  0.409000  0.705000   96.943117\n",
              "18  0.442000  0.485000  0.766000  102.010364\n",
              "19  0.446000  0.286000  0.760000   98.329630\n",
              "20  0.505308  0.437406  0.810431  102.149349"
            ]
          },
          "execution_count": 1,
          "metadata": {},
          "output_type": "execute_result"
        }
      ],
      "source": [
        "import numpy as np\n",
        "import pandas as pd\n",
        "import seaborn as sns\n",
        "import matplotlib.pyplot as plt\n",
        "\n",
        "df = pd.DataFrame({\n",
        "    \"x1\": [0.99, 0.5, 0.1, 0.292148, 0.470537, 0.5,0.772, 0.65, 0.561, 0.603, 0.581, 0.631, 0.555, 0.564, 0.614, 0.635, 0.409, 0.623, 0.442, 0.446, 0.50530835],\n",
        "    \"x2\": [0.99, 0.5, 0.1, 0.91634, 0.1, 0.5,0.285, 0.421, 0.395, 0.392, 0.509, 0.316, 0.441, 0.41, 0.413, 0.412, 0.4, 0.409, 0.485, 0.286, 0.43740641\t],\n",
        "    \"x3\": [0.99, 0.5, 0.1, 0.366324, 0.489081, 0.1,0.824, 0.682, 0.767, 0.561, 0.74, 0.825, 0.702, 0.759, 0.587, 0.879, 0.731, 0.705, 0.766, 0.76, 0.81043053],\n",
        "    \"y\": [91.44413421440021, 101.75116478560905, 93.72515688462597, 90.34559275813045, 90.6892674675357, 97.00782577467955,101.82866585050124, 103.5472167, 102.63506618077,\n",
        "          99.67889311, 100.0146109, 98.71722436, 94.7809451, 103.5302942, 101.5081597, 99.66232628, 99.66928186, 96.94311708, 102.0103643, 98.32962999, 102.149349]\n",
        "})\n",
        "\n",
        "df"
      ]
    },
    {
      "cell_type": "code",
      "execution_count": 2,
      "id": "3967c8b4",
      "metadata": {},
      "outputs": [
        {
          "data": {
            "text/html": [
              "<div>\n",
              "<style scoped>\n",
              "    .dataframe tbody tr th:only-of-type {\n",
              "        vertical-align: middle;\n",
              "    }\n",
              "\n",
              "    .dataframe tbody tr th {\n",
              "        vertical-align: top;\n",
              "    }\n",
              "\n",
              "    .dataframe thead th {\n",
              "        text-align: right;\n",
              "    }\n",
              "</style>\n",
              "<table border=\"1\" class=\"dataframe\">\n",
              "  <thead>\n",
              "    <tr style=\"text-align: right;\">\n",
              "      <th></th>\n",
              "      <th>x1</th>\n",
              "      <th>x2</th>\n",
              "      <th>x3</th>\n",
              "      <th>y</th>\n",
              "    </tr>\n",
              "  </thead>\n",
              "  <tbody>\n",
              "    <tr>\n",
              "      <th>count</th>\n",
              "      <td>21.000000</td>\n",
              "      <td>21.000000</td>\n",
              "      <td>21.000000</td>\n",
              "      <td>21.000000</td>\n",
              "    </tr>\n",
              "    <tr>\n",
              "      <th>mean</th>\n",
              "      <td>0.544952</td>\n",
              "      <td>0.434178</td>\n",
              "      <td>0.649706</td>\n",
              "      <td>98.569918</td>\n",
              "    </tr>\n",
              "    <tr>\n",
              "      <th>std</th>\n",
              "      <td>0.173829</td>\n",
              "      <td>0.205750</td>\n",
              "      <td>0.231622</td>\n",
              "      <td>4.178279</td>\n",
              "    </tr>\n",
              "    <tr>\n",
              "      <th>min</th>\n",
              "      <td>0.100000</td>\n",
              "      <td>0.100000</td>\n",
              "      <td>0.100000</td>\n",
              "      <td>90.345593</td>\n",
              "    </tr>\n",
              "    <tr>\n",
              "      <th>25%</th>\n",
              "      <td>0.470537</td>\n",
              "      <td>0.392000</td>\n",
              "      <td>0.561000</td>\n",
              "      <td>96.943117</td>\n",
              "    </tr>\n",
              "    <tr>\n",
              "      <th>50%</th>\n",
              "      <td>0.561000</td>\n",
              "      <td>0.412000</td>\n",
              "      <td>0.731000</td>\n",
              "      <td>99.669282</td>\n",
              "    </tr>\n",
              "    <tr>\n",
              "      <th>75%</th>\n",
              "      <td>0.623000</td>\n",
              "      <td>0.485000</td>\n",
              "      <td>0.767000</td>\n",
              "      <td>101.828666</td>\n",
              "    </tr>\n",
              "    <tr>\n",
              "      <th>max</th>\n",
              "      <td>0.990000</td>\n",
              "      <td>0.990000</td>\n",
              "      <td>0.990000</td>\n",
              "      <td>103.547217</td>\n",
              "    </tr>\n",
              "  </tbody>\n",
              "</table>\n",
              "</div>"
            ],
            "text/plain": [
              "              x1         x2         x3           y\n",
              "count  21.000000  21.000000  21.000000   21.000000\n",
              "mean    0.544952   0.434178   0.649706   98.569918\n",
              "std     0.173829   0.205750   0.231622    4.178279\n",
              "min     0.100000   0.100000   0.100000   90.345593\n",
              "25%     0.470537   0.392000   0.561000   96.943117\n",
              "50%     0.561000   0.412000   0.731000   99.669282\n",
              "75%     0.623000   0.485000   0.767000  101.828666\n",
              "max     0.990000   0.990000   0.990000  103.547217"
            ]
          },
          "execution_count": 2,
          "metadata": {},
          "output_type": "execute_result"
        }
      ],
      "source": [
        "df.describe()"
      ]
    },
    {
      "cell_type": "markdown",
      "id": "3cd29eff",
      "metadata": {},
      "source": [
        "# Measurement analysis"
      ]
    },
    {
      "cell_type": "code",
      "execution_count": 3,
      "id": "0bf506bd",
      "metadata": {},
      "outputs": [
        {
          "data": {
            "image/png": "[encoded data removed]",
            "text/plain": [
              "<Figure size 640x480 with 1 Axes>"
            ]
          },
          "metadata": {},
          "output_type": "display_data"
        }
      ],
      "source": [
        "plt.boxplot([df.x1, df.x2, df.x3]);"
      ]
    },
    {
      "cell_type": "code",
      "execution_count": 4,
      "id": "faf52985",
      "metadata": {},
      "outputs": [
        {
          "data": {
            "application/vnd.plotly.v1+json": {
              "config": {
                "plotlyServerURL": "https://plot.ly"
              },
              "data": [
                {
                  "hovertemplate": "x1=%{x}<br>x3=%{y}<br>y=%{marker.color}<extra></extra>",
                  "legendgroup": "",
                  "marker": {
                    "color": [
                      91.44413421440021,
                      101.75116478560905,
                      93.72515688462597,
                      90.34559275813045,
                      90.6892674675357,
                      97.00782577467955,
                      101.82866585050124,
                      103.5472167,
                      102.63506618077,
                      99.67889311,
                      100.0146109,
                      98.71722436,
                      94.7809451,
                      103.5302942,
                      101.5081597,
                      99.66232628,
                      99.66928186,
                      96.94311708,
                      102.0103643,
                      98.32962999,
                      102.149349
                    ],
                    "coloraxis": "coloraxis",
                    "symbol": "circle"
                  },
                  "mode": "markers",
                  "name": "",
                  "scene": "scene",
                  "showlegend": false,
                  "type": "scatter3d",
                  "x": [
                    0.99,
                    0.5,
                    0.1,
                    0.292148,
                    0.470537,
                    0.5,
                    0.772,
                    0.65,
                    0.561,
                    0.603,
                    0.581,
                    0.631,
                    0.555,
                    0.564,
                    0.614,
                    0.635,
                    0.409,
                    0.623,
                    0.442,
                    0.446,
                    0.50530835
                  ],
                  "y": [
                    0.99,
                    0.5,
                    0.1,
                    0.366324,
                    0.489081,
                    0.1,
                    0.824,
                    0.682,
                    0.767,
                    0.561,
                    0.74,
                    0.825,
                    0.702,
                    0.759,
                    0.587,
                    0.879,
                    0.731,
                    0.705,
                    0.766,
                    0.76,
                    0.81043053
                  ],
                  "z": [
                    91.44413421440021,
                    101.75116478560905,
                    93.72515688462597,
                    90.34559275813045,
                    90.6892674675357,
                    97.00782577467955,
                    101.82866585050124,
                    103.5472167,
                    102.63506618077,
                    99.67889311,
                    100.0146109,
                    98.71722436,
                    94.7809451,
                    103.5302942,
                    101.5081597,
                    99.66232628,
                    99.66928186,
                    96.94311708,
                    102.0103643,
                    98.32962999,
                    102.149349
                  ]
                }
              ],
              "layout": {
                "coloraxis": {
                  "colorbar": {
                    "title": {
                      "text": "y"
                    }
                  },
                  "colorscale": [
                    [
                      0,
                      "#0d0887"
                    ],
                    [
                      0.1111111111111111,
                      "#46039f"
                    ],
                    [
                      0.2222222222222222,
                      "#7201a8"
                    ],
                    [
                      0.3333333333333333,
                      "#9c179e"
                    ],
                    [
                      0.4444444444444444,
                      "#bd3786"
                    ],
                    [
                      0.5555555555555556,
                      "#d8576b"
                    ],
                    [
                      0.6666666666666666,
                      "#ed7953"
                    ],
                    [
                      0.7777777777777778,
                      "#fb9f3a"
                    ],
                    [
                      0.8888888888888888,
                      "#fdca26"
                    ],
                    [
                      1,
                      "#f0f921"
                    ]
                  ]
                },
                "legend": {
                  "tracegroupgap": 0
                },
                "margin": {
                  "t": 60
                },
                "scene": {
                  "domain": {
                    "x": [
                      0,
                      1
                    ],
                    "y": [
                      0,
                      1
                    ]
                  },
                  "xaxis": {
                    "title": {
                      "text": "x1"
                    }
                  },
                  "yaxis": {
                    "title": {
                      "text": "x3"
                    }
                  },
                  "zaxis": {
                    "title": {
                      "text": "y"
                    }
                  }
                },
                "template": {
                  "data": {
                    "bar": [
                      {
                        "error_x": {
                          "color": "#2a3f5f"
                        },
                        "error_y": {
                          "color": "#2a3f5f"
                        },
                        "marker": {
                          "line": {
                            "color": "#E5ECF6",
                            "width": 0.5
                          },
                          "pattern": {
                            "fillmode": "overlay",
                            "size": 10,
                            "solidity": 0.2
                          }
                        },
                        "type": "bar"
                      }
                    ],
                    "barpolar": [
                      {
                        "marker": {
                          "line": {
                            "color": "#E5ECF6",
                            "width": 0.5
                          },
                          "pattern": {
                            "fillmode": "overlay",
                            "size": 10,
                            "solidity": 0.2
                          }
                        },
                        "type": "barpolar"
                      }
                    ],
                    "carpet": [
                      {
                        "aaxis": {
                          "endlinecolor": "#2a3f5f",
                          "gridcolor": "white",
                          "linecolor": "white",
                          "minorgridcolor": "white",
                          "startlinecolor": "#2a3f5f"
                        },
                        "baxis": {
                          "endlinecolor": "#2a3f5f",
                          "gridcolor": "white",
                          "linecolor": "white",
                          "minorgridcolor": "white",
                          "startlinecolor": "#2a3f5f"
                        },
                        "type": "carpet"
                      }
                    ],
                    "choropleth": [
                      {
                        "colorbar": {
                          "outlinewidth": 0,
                          "ticks": ""
                        },
                        "type": "choropleth"
                      }
                    ],
                    "contour": [
                      {
                        "colorbar": {
                          "outlinewidth": 0,
                          "ticks": ""
                        },
                        "colorscale": [
                          [
                            0,
                            "#0d0887"
                          ],
                          [
                            0.1111111111111111,
                            "#46039f"
                          ],
                          [
                            0.2222222222222222,
                            "#7201a8"
                          ],
                          [
                            0.3333333333333333,
                            "#9c179e"
                          ],
                          [
                            0.4444444444444444,
                            "#bd3786"
                          ],
                          [
                            0.5555555555555556,
                            "#d8576b"
                          ],
                          [
                            0.6666666666666666,
                            "#ed7953"
                          ],
                          [
                            0.7777777777777778,
                            "#fb9f3a"
                          ],
                          [
                            0.8888888888888888,
                            "#fdca26"
                          ],
                          [
                            1,
                            "#f0f921"
                          ]
                        ],
                        "type": "contour"
                      }
                    ],
                    "contourcarpet": [
                      {
                        "colorbar": {
                          "outlinewidth": 0,
                          "ticks": ""
                        },
                        "type": "contourcarpet"
                      }
                    ],
                    "heatmap": [
                      {
                        "colorbar": {
                          "outlinewidth": 0,
                          "ticks": ""
                        },
                        "colorscale": [
                          [
                            0,
                            "#0d0887"
                          ],
                          [
                            0.1111111111111111,
                            "#46039f"
                          ],
                          [
                            0.2222222222222222,
                            "#7201a8"
                          ],
                          [
                            0.3333333333333333,
                            "#9c179e"
                          ],
                          [
                            0.4444444444444444,
                            "#bd3786"
                          ],
                          [
                            0.5555555555555556,
                            "#d8576b"
                          ],
                          [
                            0.6666666666666666,
                            "#ed7953"
                          ],
                          [
                            0.7777777777777778,
                            "#fb9f3a"
                          ],
                          [
                            0.8888888888888888,
                            "#fdca26"
                          ],
                          [
                            1,
                            "#f0f921"
                          ]
                        ],
                        "type": "heatmap"
                      }
                    ],
                    "heatmapgl": [
                      {
                        "colorbar": {
                          "outlinewidth": 0,
                          "ticks": ""
                        },
                        "colorscale": [
                          [
                            0,
                            "#0d0887"
                          ],
                          [
                            0.1111111111111111,
                            "#46039f"
                          ],
                          [
                            0.2222222222222222,
                            "#7201a8"
                          ],
                          [
                            0.3333333333333333,
                            "#9c179e"
                          ],
                          [
                            0.4444444444444444,
                            "#bd3786"
                          ],
                          [
                            0.5555555555555556,
                            "#d8576b"
                          ],
                          [
                            0.6666666666666666,
                            "#ed7953"
                          ],
                          [
                            0.7777777777777778,
                            "#fb9f3a"
                          ],
                          [
                            0.8888888888888888,
                            "#fdca26"
                          ],
                          [
                            1,
                            "#f0f921"
                          ]
                        ],
                        "type": "heatmapgl"
                      }
                    ],
                    "histogram": [
                      {
                        "marker": {
                          "pattern": {
                            "fillmode": "overlay",
                            "size": 10,
                            "solidity": 0.2
                          }
                        },
                        "type": "histogram"
                      }
                    ],
                    "histogram2d": [
                      {
                        "colorbar": {
                          "outlinewidth": 0,
                          "ticks": ""
                        },
                        "colorscale": [
                          [
                            0,
                            "#0d0887"
                          ],
                          [
                            0.1111111111111111,
                            "#46039f"
                          ],
                          [
                            0.2222222222222222,
                            "#7201a8"
                          ],
                          [
                            0.3333333333333333,
                            "#9c179e"
                          ],
                          [
                            0.4444444444444444,
                            "#bd3786"
                          ],
                          [
                            0.5555555555555556,
                            "#d8576b"
                          ],
                          [
                            0.6666666666666666,
                            "#ed7953"
                          ],
                          [
                            0.7777777777777778,
                            "#fb9f3a"
                          ],
                          [
                            0.8888888888888888,
                            "#fdca26"
                          ],
                          [
                            1,
                            "#f0f921"
                          ]
                        ],
                        "type": "histogram2d"
                      }
                    ],
                    "histogram2dcontour": [
                      {
                        "colorbar": {
                          "outlinewidth": 0,
                          "ticks": ""
                        },
                        "colorscale": [
                          [
                            0,
                            "#0d0887"
                          ],
                          [
                            0.1111111111111111,
                            "#46039f"
                          ],
                          [
                            0.2222222222222222,
                            "#7201a8"
                          ],
                          [
                            0.3333333333333333,
                            "#9c179e"
                          ],
                          [
                            0.4444444444444444,
                            "#bd3786"
                          ],
                          [
                            0.5555555555555556,
                            "#d8576b"
                          ],
                          [
                            0.6666666666666666,
                            "#ed7953"
                          ],
                          [
                            0.7777777777777778,
                            "#fb9f3a"
                          ],
                          [
                            0.8888888888888888,
                            "#fdca26"
                          ],
                          [
                            1,
                            "#f0f921"
                          ]
                        ],
                        "type": "histogram2dcontour"
                      }
                    ],
                    "mesh3d": [
                      {
                        "colorbar": {
                          "outlinewidth": 0,
                          "ticks": ""
                        },
                        "type": "mesh3d"
                      }
                    ],
                    "parcoords": [
                      {
                        "line": {
                          "colorbar": {
                            "outlinewidth": 0,
                            "ticks": ""
                          }
                        },
                        "type": "parcoords"
                      }
                    ],
                    "pie": [
                      {
                        "automargin": true,
                        "type": "pie"
                      }
                    ],
                    "scatter": [
                      {
                        "fillpattern": {
                          "fillmode": "overlay",
                          "size": 10,
                          "solidity": 0.2
                        },
                        "type": "scatter"
                      }
                    ],
                    "scatter3d": [
                      {
                        "line": {
                          "colorbar": {
                            "outlinewidth": 0,
                            "ticks": ""
                          }
                        },
                        "marker": {
                          "colorbar": {
                            "outlinewidth": 0,
                            "ticks": ""
                          }
                        },
                        "type": "scatter3d"
                      }
                    ],
                    "scattercarpet": [
                      {
                        "marker": {
                          "colorbar": {
                            "outlinewidth": 0,
                            "ticks": ""
                          }
                        },
                        "type": "scattercarpet"
                      }
                    ],
                    "scattergeo": [
                      {
                        "marker": {
                          "colorbar": {
                            "outlinewidth": 0,
                            "ticks": ""
                          }
                        },
                        "type": "scattergeo"
                      }
                    ],
                    "scattergl": [
                      {
                        "marker": {
                          "colorbar": {
                            "outlinewidth": 0,
                            "ticks": ""
                          }
                        },
                        "type": "scattergl"
                      }
                    ],
                    "scattermapbox": [
                      {
                        "marker": {
                          "colorbar": {
                            "outlinewidth": 0,
                            "ticks": ""
                          }
                        },
                        "type": "scattermapbox"
                      }
                    ],
                    "scatterpolar": [
                      {
                        "marker": {
                          "colorbar": {
                            "outlinewidth": 0,
                            "ticks": ""
                          }
                        },
                        "type": "scatterpolar"
                      }
                    ],
                    "scatterpolargl": [
                      {
                        "marker": {
                          "colorbar": {
                            "outlinewidth": 0,
                            "ticks": ""
                          }
                        },
                        "type": "scatterpolargl"
                      }
                    ],
                    "scatterternary": [
                      {
                        "marker": {
                          "colorbar": {
                            "outlinewidth": 0,
                            "ticks": ""
                          }
                        },
                        "type": "scatterternary"
                      }
                    ],
                    "surface": [
                      {
                        "colorbar": {
                          "outlinewidth": 0,
                          "ticks": ""
                        },
                        "colorscale": [
                          [
                            0,
                            "#0d0887"
                          ],
                          [
                            0.1111111111111111,
                            "#46039f"
                          ],
                          [
                            0.2222222222222222,
                            "#7201a8"
                          ],
                          [
                            0.3333333333333333,
                            "#9c179e"
                          ],
                          [
                            0.4444444444444444,
                            "#bd3786"
                          ],
                          [
                            0.5555555555555556,
                            "#d8576b"
                          ],
                          [
                            0.6666666666666666,
                            "#ed7953"
                          ],
                          [
                            0.7777777777777778,
                            "#fb9f3a"
                          ],
                          [
                            0.8888888888888888,
                            "#fdca26"
                          ],
                          [
                            1,
                            "#f0f921"
                          ]
                        ],
                        "type": "surface"
                      }
                    ],
                    "table": [
                      {
                        "cells": {
                          "fill": {
                            "color": "#EBF0F8"
                          },
                          "line": {
                            "color": "white"
                          }
                        },
                        "header": {
                          "fill": {
                            "color": "#C8D4E3"
                          },
                          "line": {
                            "color": "white"
                          }
                        },
                        "type": "table"
                      }
                    ]
                  },
                  "layout": {
                    "annotationdefaults": {
                      "arrowcolor": "#2a3f5f",
                      "arrowhead": 0,
                      "arrowwidth": 1
                    },
                    "autotypenumbers": "strict",
                    "coloraxis": {
                      "colorbar": {
                        "outlinewidth": 0,
                        "ticks": ""
                      }
                    },
                    "colorscale": {
                      "diverging": [
                        [
                          0,
                          "#8e0152"
                        ],
                        [
                          0.1,
                          "#c51b7d"
                        ],
                        [
                          0.2,
                          "#de77ae"
                        ],
                        [
                          0.3,
                          "#f1b6da"
                        ],
                        [
                          0.4,
                          "#fde0ef"
                        ],
                        [
                          0.5,
                          "#f7f7f7"
                        ],
                        [
                          0.6,
                          "#e6f5d0"
                        ],
                        [
                          0.7,
                          "#b8e186"
                        ],
                        [
                          0.8,
                          "#7fbc41"
                        ],
                        [
                          0.9,
                          "#4d9221"
                        ],
                        [
                          1,
                          "#276419"
                        ]
                      ],
                      "sequential": [
                        [
                          0,
                          "#0d0887"
                        ],
                        [
                          0.1111111111111111,
                          "#46039f"
                        ],
                        [
                          0.2222222222222222,
                          "#7201a8"
                        ],
                        [
                          0.3333333333333333,
                          "#9c179e"
                        ],
                        [
                          0.4444444444444444,
                          "#bd3786"
                        ],
                        [
                          0.5555555555555556,
                          "#d8576b"
                        ],
                        [
                          0.6666666666666666,
                          "#ed7953"
                        ],
                        [
                          0.7777777777777778,
                          "#fb9f3a"
                        ],
                        [
                          0.8888888888888888,
                          "#fdca26"
                        ],
                        [
                          1,
                          "#f0f921"
                        ]
                      ],
                      "sequentialminus": [
                        [
                          0,
                          "#0d0887"
                        ],
                        [
                          0.1111111111111111,
                          "#46039f"
                        ],
                        [
                          0.2222222222222222,
                          "#7201a8"
                        ],
                        [
                          0.3333333333333333,
                          "#9c179e"
                        ],
                        [
                          0.4444444444444444,
                          "#bd3786"
                        ],
                        [
                          0.5555555555555556,
                          "#d8576b"
                        ],
                        [
                          0.6666666666666666,
                          "#ed7953"
                        ],
                        [
                          0.7777777777777778,
                          "#fb9f3a"
                        ],
                        [
                          0.8888888888888888,
                          "#fdca26"
                        ],
                        [
                          1,
                          "#f0f921"
                        ]
                      ]
                    },
                    "colorway": [
                      "#636efa",
                      "#EF553B",
                      "#00cc96",
                      "#ab63fa",
                      "#FFA15A",
                      "#19d3f3",
                      "#FF6692",
                      "#B6E880",
                      "#FF97FF",
                      "#FECB52"
                    ],
                    "font": {
                      "color": "#2a3f5f"
                    },
                    "geo": {
                      "bgcolor": "white",
                      "lakecolor": "white",
                      "landcolor": "#E5ECF6",
                      "showlakes": true,
                      "showland": true,
                      "subunitcolor": "white"
                    },
                    "hoverlabel": {
                      "align": "left"
                    },
                    "hovermode": "closest",
                    "mapbox": {
                      "style": "light"
                    },
                    "paper_bgcolor": "white",
                    "plot_bgcolor": "#E5ECF6",
                    "polar": {
                      "angularaxis": {
                        "gridcolor": "white",
                        "linecolor": "white",
                        "ticks": ""
                      },
                      "bgcolor": "#E5ECF6",
                      "radialaxis": {
                        "gridcolor": "white",
                        "linecolor": "white",
                        "ticks": ""
                      }
                    },
                    "scene": {
                      "xaxis": {
                        "backgroundcolor": "#E5ECF6",
                        "gridcolor": "white",
                        "gridwidth": 2,
                        "linecolor": "white",
                        "showbackground": true,
                        "ticks": "",
                        "zerolinecolor": "white"
                      },
                      "yaxis": {
                        "backgroundcolor": "#E5ECF6",
                        "gridcolor": "white",
                        "gridwidth": 2,
                        "linecolor": "white",
                        "showbackground": true,
                        "ticks": "",
                        "zerolinecolor": "white"
                      },
                      "zaxis": {
                        "backgroundcolor": "#E5ECF6",
                        "gridcolor": "white",
                        "gridwidth": 2,
                        "linecolor": "white",
                        "showbackground": true,
                        "ticks": "",
                        "zerolinecolor": "white"
                      }
                    },
                    "shapedefaults": {
                      "line": {
                        "color": "#2a3f5f"
                      }
                    },
                    "ternary": {
                      "aaxis": {
                        "gridcolor": "white",
                        "linecolor": "white",
                        "ticks": ""
                      },
                      "baxis": {
                        "gridcolor": "white",
                        "linecolor": "white",
                        "ticks": ""
                      },
                      "bgcolor": "#E5ECF6",
                      "caxis": {
                        "gridcolor": "white",
                        "linecolor": "white",
                        "ticks": ""
                      }
                    },
                    "title": {
                      "x": 0.05
                    },
                    "xaxis": {
                      "automargin": true,
                      "gridcolor": "white",
                      "linecolor": "white",
                      "ticks": "",
                      "title": {
                        "standoff": 15
                      },
                      "zerolinecolor": "white",
                      "zerolinewidth": 2
                    },
                    "yaxis": {
                      "automargin": true,
                      "gridcolor": "white",
                      "linecolor": "white",
                      "ticks": "",
                      "title": {
                        "standoff": 15
                      },
                      "zerolinecolor": "white",
                      "zerolinewidth": 2
                    }
                  }
                }
              }
            }
          },
          "metadata": {},
          "output_type": "display_data"
        }
      ],
      "source": [
        "import plotly.express as px\n",
        "fig = px.scatter_3d(df, x='x1', y='x3', z='y',\n",
        "              color='y')\n",
        "fig.show()"
      ]
    },
    {
      "cell_type": "markdown",
      "id": "13d1c905",
      "metadata": {
        "id": "13d1c905"
      },
      "source": [
        "# Initialization"
      ]
    },
    {
      "cell_type": "markdown",
      "id": "b67849c9",
      "metadata": {
        "id": "b67849c9"
      },
      "source": [
        "We spread the first measurements out in the parameters space. Here, we have 3 a vector with 3 dimensions."
      ]
    },
    {
      "cell_type": "code",
      "execution_count": 5,
      "id": "5c5cee79",
      "metadata": {
        "id": "5c5cee79"
      },
      "outputs": [],
      "source": [
        "x_start = [0.5,0.5,0.5]"
      ]
    },
    {
      "cell_type": "markdown",
      "id": "6dfeeb80",
      "metadata": {
        "id": "6dfeeb80"
      },
      "source": [
        "We use Cogneato to optimize the acquisition function which is the Upper Confidence Bound (UCB) of the surrogate."
      ]
    },
    {
      "cell_type": "markdown",
      "id": "9ed90100",
      "metadata": {
        "id": "9ed90100"
      },
      "source": [
        "# Measure at Parameter"
      ]
    },
    {
      "cell_type": "markdown",
      "id": "df3c674d",
      "metadata": {
        "id": "df3c674d"
      },
      "source": [
        "Link to the measurements: https://docs.google.com/spreadsheets/d/10a9qqRZ-Wfu4aHxfSTL1ZiWR1chIhrYwgf-A8PZaOFg/edit?usp=sharing\n",
        "\n",
        "Each row of the table corresponds to a round of measurements. Indeed, the system was sending us one measurement each 24 hours for the three variables as input."
      ]
    },
    {
      "cell_type": "markdown",
      "id": "93d7806f",
      "metadata": {
        "id": "93d7806f"
      },
      "source": [
        "______"
      ]
    },
    {
      "cell_type": "markdown",
      "id": "cd581f3e",
      "metadata": {
        "id": "cd581f3e"
      },
      "source": [
        "# Analyze: Model Response Surface w/ GPR"
      ]
    },
    {
      "cell_type": "code",
      "execution_count": 6,
      "id": "96100c54",
      "metadata": {
        "colab": {
          "base_uri": "https://localhost:8080/",
          "height": 72
        },
        "id": "96100c54",
        "outputId": "67d68432-6af1-4e1e-90cf-b67b74bb8f8e"
      },
      "outputs": [
        {
          "data": {
            "text/html": [
              "<style>#sk-container-id-1 {color: black;background-color: white;}#sk-container-id-1 pre{padding: 0;}#sk-container-id-1 div.sk-toggleable {background-color: white;}#sk-container-id-1 label.sk-toggleable__label {cursor: pointer;display: block;width: 100%;margin-bottom: 0;padding: 0.3em;box-sizing: border-box;text-align: center;}#sk-container-id-1 label.sk-toggleable__label-arrow:before {content: \"▸\";float: left;margin-right: 0.25em;color: #696969;}#sk-container-id-1 label.sk-toggleable__label-arrow:hover:before {color: black;}#sk-container-id-1 div.sk-estimator:hover label.sk-toggleable__label-arrow:before {color: black;}#sk-container-id-1 div.sk-toggleable__content {max-height: 0;max-width: 0;overflow: hidden;text-align: left;background-color: #f0f8ff;}#sk-container-id-1 div.sk-toggleable__content pre {margin: 0.2em;color: black;border-radius: 0.25em;background-color: #f0f8ff;}#sk-container-id-1 input.sk-toggleable__control:checked~div.sk-toggleable__content {max-height: 200px;max-width: 100%;overflow: auto;}#sk-container-id-1 input.sk-toggleable__control:checked~label.sk-toggleable__label-arrow:before {content: \"▾\";}#sk-container-id-1 div.sk-estimator input.sk-toggleable__control:checked~label.sk-toggleable__label {background-color: #d4ebff;}#sk-container-id-1 div.sk-label input.sk-toggleable__control:checked~label.sk-toggleable__label {background-color: #d4ebff;}#sk-container-id-1 input.sk-hidden--visually {border: 0;clip: rect(1px 1px 1px 1px);clip: rect(1px, 1px, 1px, 1px);height: 1px;margin: -1px;overflow: hidden;padding: 0;position: absolute;width: 1px;}#sk-container-id-1 div.sk-estimator {font-family: monospace;background-color: #f0f8ff;border: 1px dotted black;border-radius: 0.25em;box-sizing: border-box;margin-bottom: 0.5em;}#sk-container-id-1 div.sk-estimator:hover {background-color: #d4ebff;}#sk-container-id-1 div.sk-parallel-item::after {content: \"\";width: 100%;border-bottom: 1px solid gray;flex-grow: 1;}#sk-container-id-1 div.sk-label:hover label.sk-toggleable__label {background-color: #d4ebff;}#sk-container-id-1 div.sk-serial::before {content: \"\";position: absolute;border-left: 1px solid gray;box-sizing: border-box;top: 0;bottom: 0;left: 50%;z-index: 0;}#sk-container-id-1 div.sk-serial {display: flex;flex-direction: column;align-items: center;background-color: white;padding-right: 0.2em;padding-left: 0.2em;position: relative;}#sk-container-id-1 div.sk-item {position: relative;z-index: 1;}#sk-container-id-1 div.sk-parallel {display: flex;align-items: stretch;justify-content: center;background-color: white;position: relative;}#sk-container-id-1 div.sk-item::before, #sk-container-id-1 div.sk-parallel-item::before {content: \"\";position: absolute;border-left: 1px solid gray;box-sizing: border-box;top: 0;bottom: 0;left: 50%;z-index: -1;}#sk-container-id-1 div.sk-parallel-item {display: flex;flex-direction: column;z-index: 1;position: relative;background-color: white;}#sk-container-id-1 div.sk-parallel-item:first-child::after {align-self: flex-end;width: 50%;}#sk-container-id-1 div.sk-parallel-item:last-child::after {align-self: flex-start;width: 50%;}#sk-container-id-1 div.sk-parallel-item:only-child::after {width: 0;}#sk-container-id-1 div.sk-dashed-wrapped {border: 1px dashed gray;margin: 0 0.4em 0.5em 0.4em;box-sizing: border-box;padding-bottom: 0.4em;background-color: white;}#sk-container-id-1 div.sk-label label {font-family: monospace;font-weight: bold;display: inline-block;line-height: 1.2em;}#sk-container-id-1 div.sk-label-container {text-align: center;}#sk-container-id-1 div.sk-container {/* jupyter's `normalize.less` sets `[hidden] { display: none; }` but bootstrap.min.css set `[hidden] { display: none !important; }` so we also need the `!important` here to be able to override the default hidden behavior on the sphinx rendered scikit-learn.org. See: https://github.com/scikit-learn/scikit-learn/issues/21755 */display: inline-block !important;position: relative;}#sk-container-id-1 div.sk-text-repr-fallback {display: none;}</style><div id=\"sk-container-id-1\" class=\"sk-top-container\"><div class=\"sk-text-repr-fallback\"><pre>GaussianProcessRegressor(kernel=RBF(length_scale=1), n_restarts_optimizer=20)</pre><b>In a Jupyter environment, please rerun this cell to show the HTML representation or trust the notebook. <br />On GitHub, the HTML representation is unable to render, please try loading this page with nbviewer.org.</b></div><div class=\"sk-container\" hidden><div class=\"sk-item\"><div class=\"sk-estimator sk-toggleable\"><input class=\"sk-toggleable__control sk-hidden--visually\" id=\"sk-estimator-id-1\" type=\"checkbox\" checked><label for=\"sk-estimator-id-1\" class=\"sk-toggleable__label sk-toggleable__label-arrow\">GaussianProcessRegressor</label><div class=\"sk-toggleable__content\"><pre>GaussianProcessRegressor(kernel=RBF(length_scale=1), n_restarts_optimizer=20)</pre></div></div></div></div></div>"
            ],
            "text/plain": [
              "GaussianProcessRegressor(kernel=RBF(length_scale=1), n_restarts_optimizer=20)"
            ]
          },
          "execution_count": 6,
          "metadata": {},
          "output_type": "execute_result"
        }
      ],
      "source": [
        "from sklearn.gaussian_process import GaussianProcessRegressor\n",
        "from sklearn.gaussian_process.kernels import RBF\n",
        "\n",
        "# Input data for x0, x1, x2, and y_mean\n",
        "X = df.drop(\"y\", axis=1).to_numpy()\n",
        "y_mean = df.y.to_numpy()\n",
        "\n",
        "# Create the Gaussian Process Regression model\n",
        "surrogate = GaussianProcessRegressor(kernel=RBF(), n_restarts_optimizer=20)\n",
        "\n",
        "# Fit the model to the data\n",
        "surrogate.fit(X, y_mean)"
      ]
    },
    {
      "cell_type": "markdown",
      "id": "60acbade",
      "metadata": {
        "id": "60acbade"
      },
      "source": [
        "# Design: Optimize Acquisition Function"
      ]
    },
    {
      "cell_type": "code",
      "execution_count": 7,
      "id": "9d705c1c",
      "metadata": {
        "colab": {
          "base_uri": "https://localhost:8080/"
        },
        "id": "9d705c1c",
        "outputId": "ecdbc02d-44a6-4524-a815-1690846170b8"
      },
      "outputs": [
        {
          "name": "stdout",
          "output_type": "stream",
          "text": [
            "Optimal Parameters: [0.5966487  0.45301963 0.52325375]\n",
            "Optimal UCB Value: 112.1895375400817\n",
            "Corresponding y_mean at Optimal Point: 111.55632110091709\n",
            "Corresponding y_std at Optimal Point: 0.3166082195823075\n"
          ]
        }
      ],
      "source": [
        "from scipy.optimize import minimize\n",
        "\n",
        "# Define the UCB function\n",
        "def ucb(x, model, beta):\n",
        "    mean, std = model.predict(x.reshape(1, -1), return_std=True)\n",
        "    return -(mean + beta * std)  # Minimize the negative UCB to maximize the UCB\n",
        "\n",
        "# Set the value of beta (controls exploration-exploitation trade-off)\n",
        "beta = 2\n",
        "\n",
        "# Set the bounds for the parameters (x0, x1, x2)\n",
        "bounds = [(0, 1), (0, 1), (0, 1)]\n",
        "\n",
        "# Optimize the UCB function using the GPR model\n",
        "result = minimize(ucb, x0=[0.5, 0.5, 0.5], args=(surrogate, beta), bounds=bounds)\n",
        "\n",
        "# Get the optimal parameters that maximize the UCB function\n",
        "optimal_params = result.x\n",
        "\n",
        "# Evaluate the actual objective function to get the corresponding y_mean and y_se (if needed)\n",
        "y_mean_optimal, y_std_optimal = surrogate.predict(np.array([optimal_params]), return_std=True)\n",
        "\n",
        "print(\"Optimal Parameters:\", optimal_params)\n",
        "print(\"Optimal UCB Value:\", -result.fun)  # Convert back to maximize the UCB function\n",
        "print(\"Corresponding y_mean at Optimal Point:\", y_mean_optimal[0])\n",
        "print(\"Corresponding y_std at Optimal Point:\", y_std_optimal[0])\n"
      ]
    },
    {
      "cell_type": "markdown",
      "id": "a8826a48",
      "metadata": {},
      "source": [
        "# Finding optimal parameter using all the combinations for X variables."
      ]
    },
    {
      "cell_type": "code",
      "execution_count": 8,
      "id": "72a8a7db",
      "metadata": {
        "id": "72a8a7db"
      },
      "outputs": [],
      "source": [
        "# Define a grid of parameters to try\n",
        "x0_values = np.linspace(0, 1, 20) \n",
        "x1_values = np.linspace(0, 1, 20) \n",
        "x2_values = np.linspace(0, 1, 20)"
      ]
    },
    {
      "cell_type": "code",
      "execution_count": 9,
      "id": "93da0acb",
      "metadata": {
        "id": "93da0acb"
      },
      "outputs": [],
      "source": [
        "# Initialize optimial parameters\n",
        "optimal_params = None\n",
        "optimal_ucb_value = float('-inf')"
      ]
    },
    {
      "cell_type": "code",
      "execution_count": 10,
      "id": "fb8adcd1",
      "metadata": {
        "id": "fb8adcd1"
      },
      "outputs": [
        {
          "name": "stderr",
          "output_type": "stream",
          "text": [
            "  0%|          | 0/20 [00:00<?, ?it/s]"
          ]
        },
        {
          "name": "stderr",
          "output_type": "stream",
          "text": [
            "100%|██████████| 20/20 [11:40<00:00, 35.05s/it]\n"
          ]
        }
      ],
      "source": [
        "# Importing progress library\n",
        "from tqdm import tqdm\n",
        "# Loop through all combinations of parameters\n",
        "for x0 in tqdm(x0_values):\n",
        "    for x1 in x1_values:\n",
        "        for x2 in x2_values:\n",
        "            x = np.array([x0, x1, x2])\n",
        "            result = minimize(ucb, x0=x, args=(surrogate, beta), bounds=bounds)\n",
        "            ucb_value = -result.fun\n",
        "\n",
        "            if ucb_value > optimal_ucb_value:\n",
        "                optimal_ucb_value = ucb_value\n",
        "                optimal_params = result.x"
      ]
    },
    {
      "cell_type": "code",
      "execution_count": 13,
      "id": "a37231c5",
      "metadata": {
        "colab": {
          "base_uri": "https://localhost:8080/"
        },
        "id": "a37231c5",
        "outputId": "1884c086-f903-4379-ca4c-099d7219ef63"
      },
      "outputs": [
        {
          "name": "stdout",
          "output_type": "stream",
          "text": [
            "Optimal Parameters: [0.69625062 0.40441526 0.79456274]\n",
            "Optimal UCB Value: 118.9874450035549\n",
            "Corresponding y_mean at Optimal Point: 118.26432932634455\n",
            "Corresponding y_std at Optimal Point: 0.3615578386051721\n"
          ]
        }
      ],
      "source": [
        "# Evaluate the actual objective function at the optimal point to get the corresponding y_mean and y_std (if needed)\n",
        "y_mean_optimal, y_std_optimal = surrogate.predict(np.array([optimal_params]), return_std=True)\n",
        "\n",
        "print(\"Optimal Parameters:\", optimal_params)\n",
        "print(\"Optimal UCB Value:\", optimal_ucb_value)\n",
        "print(\"Corresponding y_mean at Optimal Point:\", y_mean_optimal[0])\n",
        "print(\"Corresponding y_std at Optimal Point:\", y_std_optimal[0])"
      ]
    },
    {
      "cell_type": "markdown",
      "id": "ac56059a",
      "metadata": {},
      "source": [
        "### Conclusion: Optimal parameters with maximum customer satisfaction"
      ]
    },
    {
      "cell_type": "code",
      "execution_count": 14,
      "id": "b8b93e5c",
      "metadata": {},
      "outputs": [
        {
          "data": {
            "text/plain": [
              "x1      0.650000\n",
              "x2      0.421000\n",
              "x3      0.682000\n",
              "y     103.547217\n",
              "Name: 7, dtype: float64"
            ]
          },
          "execution_count": 14,
          "metadata": {},
          "output_type": "execute_result"
        }
      ],
      "source": [
        "df.iloc[np.argmax(df.y)]"
      ]
    },
    {
      "cell_type": "code",
      "execution_count": null,
      "id": "dda4ea80",
      "metadata": {},
      "outputs": [],
      "source": []
    }
  ],
  "metadata": {
    "colab": {
      "provenance": []
    },
    "kernelspec": {
      "display_name": "Python 3",
      "language": "python",
      "name": "python3"
    },
    "language_info": {
      "codemirror_mode": {
        "name": "ipython",
        "version": 3
      },
      "file_extension": ".py",
      "mimetype": "text/x-python",
      "name": "python",
      "nbconvert_exporter": "python",
      "pygments_lexer": "ipython3",
      "version": "3.9.0"
    }
  },
  "nbformat": 4,
  "nbformat_minor": 5
}
